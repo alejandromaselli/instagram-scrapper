{
 "cells": [
  {
   "cell_type": "code",
   "execution_count": 1,
   "metadata": {},
   "outputs": [],
   "source": []
  },
  {
   "cell_type": "code",
   "execution_count": 2,
   "metadata": {},
   "outputs": [
    {
     "data": {
      "text/plain": [
       "'=====  End of Function that counts the ammount of links thus followers  ======'"
      ]
     },
     "execution_count": 2,
     "metadata": {},
     "output_type": "execute_result"
    }
   ],
   "source": []
  },
  {
   "cell_type": "code",
   "execution_count": 3,
   "metadata": {
    "scrolled": true
   },
   "outputs": [
    {
     "ename": "TypeError",
     "evalue": "unsupported operand type(s) for +: 'int' and 'list'",
     "output_type": "error",
     "traceback": [
      "\u001b[0;31m---------------------------------------------------------------------------\u001b[0m",
      "\u001b[0;31mTypeError\u001b[0m                                 Traceback (most recent call last)",
      "\u001b[0;32m<ipython-input-3-4b9995457a6d>\u001b[0m in \u001b[0;36m<module>\u001b[0;34m\u001b[0m\n\u001b[1;32m    114\u001b[0m             \u001b[0macumulador\u001b[0m \u001b[0;34m=\u001b[0m \u001b[0;36m0\u001b[0m\u001b[0;34m\u001b[0m\u001b[0;34m\u001b[0m\u001b[0m\n\u001b[1;32m    115\u001b[0m             \u001b[0melements\u001b[0m \u001b[0;34m=\u001b[0m \u001b[0melements\u001b[0m \u001b[0;34m+\u001b[0m \u001b[0mcomparacion\u001b[0m\u001b[0;34m(\u001b[0m\u001b[0macumulador\u001b[0m\u001b[0;34m,\u001b[0m \u001b[0mcontador\u001b[0m\u001b[0;34m)\u001b[0m\u001b[0;34m\u001b[0m\u001b[0;34m\u001b[0m\u001b[0m\n\u001b[0;32m--> 116\u001b[0;31m             \u001b[0mtotal\u001b[0m \u001b[0;34m=\u001b[0m \u001b[0mtotal\u001b[0m \u001b[0;34m+\u001b[0m \u001b[0melements\u001b[0m\u001b[0;34m\u001b[0m\u001b[0;34m\u001b[0m\u001b[0m\n\u001b[0m\u001b[1;32m    117\u001b[0m             \u001b[0mprint\u001b[0m\u001b[0;34m(\u001b[0m\u001b[0mlen\u001b[0m\u001b[0;34m(\u001b[0m\u001b[0melements\u001b[0m\u001b[0;34m)\u001b[0m\u001b[0;34m)\u001b[0m\u001b[0;34m\u001b[0m\u001b[0;34m\u001b[0m\u001b[0m\n\u001b[1;32m    118\u001b[0m             \u001b[0mbrowser\u001b[0m\u001b[0;34m.\u001b[0m\u001b[0mminimize_window\u001b[0m\u001b[0;34m(\u001b[0m\u001b[0;34m)\u001b[0m\u001b[0;34m\u001b[0m\u001b[0;34m\u001b[0m\u001b[0m\n",
      "\u001b[0;31mTypeError\u001b[0m: unsupported operand type(s) for +: 'int' and 'list'"
     ]
    }
   ],
   "source": [
    "'''=================================\n",
    "=            Libraries            =\n",
    "================================='''\n",
    "\n",
    "from selenium import webdriver\n",
    "import time\n",
    "from selenium.webdriver.common.keys import Keys\n",
    "from selenium.webdriver.common.action_chains import ActionChains\n",
    "import re as r\n",
    "import pandas as pd\n",
    "import numpy as np\n",
    "\n",
    "'''=====  End of Libraries  ======'''\n",
    "\n",
    "'''================================================================================\n",
    "=            Function that counts the ammount of links thus followers            =\n",
    "================================================================================'''\n",
    "\n",
    "def comparacion(contador, acumulador):\n",
    "    acumulador = 0\n",
    "    contador = 0\n",
    "    usersalv = []\n",
    "    while(contador == contador):\n",
    "        comparisons = browser.find_elements_by_tag_name(\"a\")\n",
    "        for x in comparisons:\n",
    "            contador = contador + 1\n",
    "        acumulador = contador\n",
    "        actions.send_keys(Keys.END).perform()\n",
    "        time.sleep(3)\n",
    "        comparisons = browser.find_elements_by_tag_name(\"a\")\n",
    "        for x in comparisons:\n",
    "            contador = contador + 1\n",
    "        if ((contador / acumulador) == 2):\n",
    "            #print(comparisons)\n",
    "            return(comparisons)\n",
    "            break\n",
    "        contador = 0\n",
    "        acumulador = 0\n",
    "    \n",
    "\n",
    "'''=====  End of Function that counts the ammount of links thus followers  ======'''\n",
    "\n",
    "\n",
    "\n",
    "'''==============================================\n",
    "=            Instancia el navegador            =\n",
    "=============================================='''\n",
    "\n",
    "# Obtener la instancia del navegador\n",
    "browser = webdriver.Chrome()        \n",
    "\n",
    "# Dirigir la URL a instagram\n",
    "browser.get(\"https://www.instagram.com/\")\n",
    "\n",
    "'''=====  End of Instancia el navegador  ======'''\n",
    "\n",
    "'''===================================\n",
    "=           Inicia sesion           =\n",
    "==================================='''\n",
    "\n",
    "# inicializar la variable que maneja los clicks\n",
    "action = ActionChains(browser)\n",
    "time.sleep(5)\n",
    "browser.find_element_by_xpath(\"/html/body/div[1]/section/main/article/div[2]/div[2]/div/p/a/span\")\n",
    "time.sleep(5)\n",
    "\n",
    "# Envia texto a los forms\n",
    "browser.find_element_by_name(\"username\").send_keys(\"alejandromaselli\")\n",
    "browser.find_element_by_name(\"password\").send_keys(\"Assettwenty51\")\n",
    "\n",
    "# Clickea el form submit para loguearse\n",
    "\n",
    "#browser.find_element_by_xpath(\"//*[@id=\\\"react-root\\\"]/section/main/article/div[2]/div[1]/div/form/div[4]/button/div\").click()\n",
    "browser.find_element_by_xpath(\"//*[@id=\\\"loginForm\\\"]/div/div[3]/button/div\").click()\n",
    "time.sleep(5)\n",
    "\n",
    "'''=====  End of incia sesion comment block  ======'''\n",
    "\n",
    "\n",
    "'''=======================================================================\n",
    "=            Selecciona foto y escrapea todos los seguidores            =\n",
    "======================================================================='''\n",
    "\n",
    "# Clickea la foto de perfil\n",
    "browser.find_element_by_xpath(\"//*[@id=\\\"react-root\\\"]/section/nav/div[2]/div/div/div[3]/div/div[5]/span\").click()\n",
    "time.sleep(5)\n",
    "\n",
    "# Entra al perfil de chejo xD\n",
    "# browser.get('https://www.instagram.com/sergiopellecer/')\n",
    "# browser.get('https://www.instagram.com/arawtomas/')\n",
    "\n",
    "browser.find_element_by_xpath(\"//*[@id=\\\"react-root\\\"]/section/nav/div[2]/div/div/div[3]/div/div[5]/div[2]/div/div[2]/div[2]/a[1]/div\").click()\n",
    "\n",
    "time.sleep(3)\n",
    "\n",
    "# Clickea el icono de seguidores\n",
    "#scr1 = browser.find_element_by_xpath(\"//*[@id=\\\"react-root\\\"]/section/main/div/header/section/ul/li[2]/a\").click()\n",
    "scr1 = browser.find_element_by_xpath(\"//*[@id=\\\"react-root\\\"]/section/main/div/header/section/ul/li[2]/a\").click()\n",
    "time.sleep(3)\n",
    "\n",
    "# Clickea el pop-up resultante del click anterior\n",
    "scr1 = browser.find_element_by_xpath(\"/html/body/div[4]/div/div/div[2]\").click()\n",
    "\n",
    "# Realiza 3 tabs para que se enfoque en el poup\n",
    "actions = ActionChains(browser)\n",
    "actions.send_keys(Keys.TAB).perform()\n",
    "time.sleep(3)\n",
    "actions.send_keys(Keys.TAB).perform()\n",
    "time.sleep(3)\n",
    "actions.send_keys(Keys.TAB).perform()\n",
    "time.sleep(3)\n",
    "\n",
    "time.sleep(3)\n",
    "elements = browser.find_elements_by_tag_name(\"a\")\n",
    "contador = 0\n",
    "acumulador = 0\n",
    "\n",
    "'''=====  End of Selecciona foto y escrapea todos los seguidores  ======'''\n",
    "\n",
    "elements = comparacion(acumulador, contador)\n",
    "\n",
    "'''\n",
    "for x in elements:\n",
    "    print(x.text)\n",
    "'''\n",
    "total = 0\n",
    "for x in elements:\n",
    "    if (r.search(r'\\d|\\bProfile\\b|\\bfollowers\\b|\\bfollowing\\b|\\bSAVED\\b|\\bPOSTS\\b|\\bIGTV\\b|\\bTAGGED\\b|\\bABOUT\\b|\\bHELP\\b|\\bPRESS\\b|\\bAPI\\b|\\bJOBS\\b|\\bPRIVACY\\b|\\bTERMS\\b|\\bLOCATIONS\\b|\\bTOP ACCOUNTS\\b|\\bHASHTAGS\\b|\\bFollowed by\\b', x.text)):\n",
    "        variableInservible = 0\n",
    "    else:\n",
    "        if (r.search(r'^\\w', x.text)):\n",
    "            contador = contador + 1\n",
    "            pagina = \"https://www.instagram.com/\" + x.text + \"/\"\n",
    "            browser.get(pagina)\n",
    "            #print(\"salio pagina con \" + x.text)\n",
    "            \n",
    "            # Clickea el icono de seguidores\n",
    "            #scr1 = browser.find_element_by_xpath(\"//*[@id=\\\"react-root\\\"]/section/main/div/header/section/ul/li[2]/a\").click()\n",
    "            scr1 = browser.find_element_by_xpath(\"//*[@id=\\\"react-root\\\"]/section/main/div/header/section/ul/li[3]/a\").click()\n",
    "            time.sleep(3)\n",
    "\n",
    "            # Clickea el pop-up resultante del click anterior\n",
    "\n",
    "            scr1 = browser.find_element_by_xpath(\"/html/body/div[4]/div/div/div[2]\").click()\n",
    "\n",
    "            # Realiza 3 tabs para que se enfoque en el popup\n",
    "            actions = ActionChains(browser)\n",
    "            actions.send_keys(Keys.TAB).perform()\n",
    "            time.sleep(3)\n",
    "            actions.send_keys(Keys.TAB).perform()\n",
    "            time.sleep(3)\n",
    "            actions.send_keys(Keys.TAB).perform()\n",
    "            time.sleep(3)\n",
    "            actions.send_keys(Keys.TAB).perform()\n",
    "            time.sleep(3)\n",
    "            elements = elements + browser.find_elements_by_tag_name(\"a\")\n",
    "            contador = 0\n",
    "            acumulador = 0\n",
    "            elements = elements + comparacion(acumulador, contador)\n",
    "            total = total + elements\n",
    "            print(len(elements))\n",
    "            browser.minimize_window()\n",
    "            print(\"Termino\")\n",
    "            break"
   ]
  },
  {
   "cell_type": "code",
   "execution_count": 45,
   "metadata": {
    "collapsed": true
   },
   "outputs": [
    {
     "ename": "NoSuchWindowException",
     "evalue": "Message: no such window: target window already closed\nfrom unknown error: web view not found\n  (Session info: chrome=83.0.4103.61)\n",
     "output_type": "error",
     "traceback": [
      "\u001b[0;31m---------------------------------------------------------------------------\u001b[0m",
      "\u001b[0;31mNoSuchWindowException\u001b[0m                     Traceback (most recent call last)",
      "\u001b[0;32m<ipython-input-45-785957769403>\u001b[0m in \u001b[0;36m<module>\u001b[0;34m\u001b[0m\n\u001b[1;32m      1\u001b[0m \u001b[0mprueba\u001b[0m \u001b[0;34m=\u001b[0m \u001b[0;34m[\u001b[0m\u001b[0;34m]\u001b[0m\u001b[0;34m\u001b[0m\u001b[0;34m\u001b[0m\u001b[0m\n\u001b[1;32m      2\u001b[0m \u001b[0;32mfor\u001b[0m \u001b[0mx\u001b[0m \u001b[0;32min\u001b[0m \u001b[0melements\u001b[0m\u001b[0;34m:\u001b[0m\u001b[0;34m\u001b[0m\u001b[0;34m\u001b[0m\u001b[0m\n\u001b[0;32m----> 3\u001b[0;31m     \u001b[0;32mif\u001b[0m \u001b[0;34m(\u001b[0m\u001b[0mr\u001b[0m\u001b[0;34m.\u001b[0m\u001b[0msearch\u001b[0m\u001b[0;34m(\u001b[0m\u001b[0;34mr'\\bProfile\\b|\\bfollowers\\b|\\bfollowing\\b|\\bSAVED\\b|\\bPOSTS\\b|\\bIGTV\\b|\\bTAGGED\\b|\\bABOUT\\b|\\bHELP\\b|\\bPRESS\\b|\\bAPI\\b|\\bJOBS\\b|\\bPRIVACY\\b|\\bTERMS\\b|\\bLOCATIONS\\b|\\bTOP ACCOUNTS\\b|\\bHASHTAGS\\b|\\bFollowed by\\b'\u001b[0m\u001b[0;34m,\u001b[0m \u001b[0mx\u001b[0m\u001b[0;34m.\u001b[0m\u001b[0mtext\u001b[0m\u001b[0;34m)\u001b[0m\u001b[0;34m)\u001b[0m\u001b[0;34m:\u001b[0m\u001b[0;34m\u001b[0m\u001b[0;34m\u001b[0m\u001b[0m\n\u001b[0m\u001b[1;32m      4\u001b[0m         \u001b[0mvariableInservible\u001b[0m \u001b[0;34m=\u001b[0m \u001b[0;36m0\u001b[0m\u001b[0;34m\u001b[0m\u001b[0;34m\u001b[0m\u001b[0m\n\u001b[1;32m      5\u001b[0m     \u001b[0;32melse\u001b[0m\u001b[0;34m:\u001b[0m\u001b[0;34m\u001b[0m\u001b[0;34m\u001b[0m\u001b[0m\n",
      "\u001b[0;32m~/.local/lib/python3.8/site-packages/selenium/webdriver/remote/webelement.py\u001b[0m in \u001b[0;36mtext\u001b[0;34m(self)\u001b[0m\n\u001b[1;32m     74\u001b[0m     \u001b[0;32mdef\u001b[0m \u001b[0mtext\u001b[0m\u001b[0;34m(\u001b[0m\u001b[0mself\u001b[0m\u001b[0;34m)\u001b[0m\u001b[0;34m:\u001b[0m\u001b[0;34m\u001b[0m\u001b[0;34m\u001b[0m\u001b[0m\n\u001b[1;32m     75\u001b[0m         \u001b[0;34m\"\"\"The text of the element.\"\"\"\u001b[0m\u001b[0;34m\u001b[0m\u001b[0;34m\u001b[0m\u001b[0m\n\u001b[0;32m---> 76\u001b[0;31m         \u001b[0;32mreturn\u001b[0m \u001b[0mself\u001b[0m\u001b[0;34m.\u001b[0m\u001b[0m_execute\u001b[0m\u001b[0;34m(\u001b[0m\u001b[0mCommand\u001b[0m\u001b[0;34m.\u001b[0m\u001b[0mGET_ELEMENT_TEXT\u001b[0m\u001b[0;34m)\u001b[0m\u001b[0;34m[\u001b[0m\u001b[0;34m'value'\u001b[0m\u001b[0;34m]\u001b[0m\u001b[0;34m\u001b[0m\u001b[0;34m\u001b[0m\u001b[0m\n\u001b[0m\u001b[1;32m     77\u001b[0m \u001b[0;34m\u001b[0m\u001b[0m\n\u001b[1;32m     78\u001b[0m     \u001b[0;32mdef\u001b[0m \u001b[0mclick\u001b[0m\u001b[0;34m(\u001b[0m\u001b[0mself\u001b[0m\u001b[0;34m)\u001b[0m\u001b[0;34m:\u001b[0m\u001b[0;34m\u001b[0m\u001b[0;34m\u001b[0m\u001b[0m\n",
      "\u001b[0;32m~/.local/lib/python3.8/site-packages/selenium/webdriver/remote/webelement.py\u001b[0m in \u001b[0;36m_execute\u001b[0;34m(self, command, params)\u001b[0m\n\u001b[1;32m    631\u001b[0m             \u001b[0mparams\u001b[0m \u001b[0;34m=\u001b[0m \u001b[0;34m{\u001b[0m\u001b[0;34m}\u001b[0m\u001b[0;34m\u001b[0m\u001b[0;34m\u001b[0m\u001b[0m\n\u001b[1;32m    632\u001b[0m         \u001b[0mparams\u001b[0m\u001b[0;34m[\u001b[0m\u001b[0;34m'id'\u001b[0m\u001b[0;34m]\u001b[0m \u001b[0;34m=\u001b[0m \u001b[0mself\u001b[0m\u001b[0;34m.\u001b[0m\u001b[0m_id\u001b[0m\u001b[0;34m\u001b[0m\u001b[0;34m\u001b[0m\u001b[0m\n\u001b[0;32m--> 633\u001b[0;31m         \u001b[0;32mreturn\u001b[0m \u001b[0mself\u001b[0m\u001b[0;34m.\u001b[0m\u001b[0m_parent\u001b[0m\u001b[0;34m.\u001b[0m\u001b[0mexecute\u001b[0m\u001b[0;34m(\u001b[0m\u001b[0mcommand\u001b[0m\u001b[0;34m,\u001b[0m \u001b[0mparams\u001b[0m\u001b[0;34m)\u001b[0m\u001b[0;34m\u001b[0m\u001b[0;34m\u001b[0m\u001b[0m\n\u001b[0m\u001b[1;32m    634\u001b[0m \u001b[0;34m\u001b[0m\u001b[0m\n\u001b[1;32m    635\u001b[0m     \u001b[0;32mdef\u001b[0m \u001b[0mfind_element\u001b[0m\u001b[0;34m(\u001b[0m\u001b[0mself\u001b[0m\u001b[0;34m,\u001b[0m \u001b[0mby\u001b[0m\u001b[0;34m=\u001b[0m\u001b[0mBy\u001b[0m\u001b[0;34m.\u001b[0m\u001b[0mID\u001b[0m\u001b[0;34m,\u001b[0m \u001b[0mvalue\u001b[0m\u001b[0;34m=\u001b[0m\u001b[0;32mNone\u001b[0m\u001b[0;34m)\u001b[0m\u001b[0;34m:\u001b[0m\u001b[0;34m\u001b[0m\u001b[0;34m\u001b[0m\u001b[0m\n",
      "\u001b[0;32m~/.local/lib/python3.8/site-packages/selenium/webdriver/remote/webdriver.py\u001b[0m in \u001b[0;36mexecute\u001b[0;34m(self, driver_command, params)\u001b[0m\n\u001b[1;32m    319\u001b[0m         \u001b[0mresponse\u001b[0m \u001b[0;34m=\u001b[0m \u001b[0mself\u001b[0m\u001b[0;34m.\u001b[0m\u001b[0mcommand_executor\u001b[0m\u001b[0;34m.\u001b[0m\u001b[0mexecute\u001b[0m\u001b[0;34m(\u001b[0m\u001b[0mdriver_command\u001b[0m\u001b[0;34m,\u001b[0m \u001b[0mparams\u001b[0m\u001b[0;34m)\u001b[0m\u001b[0;34m\u001b[0m\u001b[0;34m\u001b[0m\u001b[0m\n\u001b[1;32m    320\u001b[0m         \u001b[0;32mif\u001b[0m \u001b[0mresponse\u001b[0m\u001b[0;34m:\u001b[0m\u001b[0;34m\u001b[0m\u001b[0;34m\u001b[0m\u001b[0m\n\u001b[0;32m--> 321\u001b[0;31m             \u001b[0mself\u001b[0m\u001b[0;34m.\u001b[0m\u001b[0merror_handler\u001b[0m\u001b[0;34m.\u001b[0m\u001b[0mcheck_response\u001b[0m\u001b[0;34m(\u001b[0m\u001b[0mresponse\u001b[0m\u001b[0;34m)\u001b[0m\u001b[0;34m\u001b[0m\u001b[0;34m\u001b[0m\u001b[0m\n\u001b[0m\u001b[1;32m    322\u001b[0m             response['value'] = self._unwrap_value(\n\u001b[1;32m    323\u001b[0m                 response.get('value', None))\n",
      "\u001b[0;32m~/.local/lib/python3.8/site-packages/selenium/webdriver/remote/errorhandler.py\u001b[0m in \u001b[0;36mcheck_response\u001b[0;34m(self, response)\u001b[0m\n\u001b[1;32m    240\u001b[0m                 \u001b[0malert_text\u001b[0m \u001b[0;34m=\u001b[0m \u001b[0mvalue\u001b[0m\u001b[0;34m[\u001b[0m\u001b[0;34m'alert'\u001b[0m\u001b[0;34m]\u001b[0m\u001b[0;34m.\u001b[0m\u001b[0mget\u001b[0m\u001b[0;34m(\u001b[0m\u001b[0;34m'text'\u001b[0m\u001b[0;34m)\u001b[0m\u001b[0;34m\u001b[0m\u001b[0;34m\u001b[0m\u001b[0m\n\u001b[1;32m    241\u001b[0m             \u001b[0;32mraise\u001b[0m \u001b[0mexception_class\u001b[0m\u001b[0;34m(\u001b[0m\u001b[0mmessage\u001b[0m\u001b[0;34m,\u001b[0m \u001b[0mscreen\u001b[0m\u001b[0;34m,\u001b[0m \u001b[0mstacktrace\u001b[0m\u001b[0;34m,\u001b[0m \u001b[0malert_text\u001b[0m\u001b[0;34m)\u001b[0m\u001b[0;34m\u001b[0m\u001b[0;34m\u001b[0m\u001b[0m\n\u001b[0;32m--> 242\u001b[0;31m         \u001b[0;32mraise\u001b[0m \u001b[0mexception_class\u001b[0m\u001b[0;34m(\u001b[0m\u001b[0mmessage\u001b[0m\u001b[0;34m,\u001b[0m \u001b[0mscreen\u001b[0m\u001b[0;34m,\u001b[0m \u001b[0mstacktrace\u001b[0m\u001b[0;34m)\u001b[0m\u001b[0;34m\u001b[0m\u001b[0;34m\u001b[0m\u001b[0m\n\u001b[0m\u001b[1;32m    243\u001b[0m \u001b[0;34m\u001b[0m\u001b[0m\n\u001b[1;32m    244\u001b[0m     \u001b[0;32mdef\u001b[0m \u001b[0m_value_or_default\u001b[0m\u001b[0;34m(\u001b[0m\u001b[0mself\u001b[0m\u001b[0;34m,\u001b[0m \u001b[0mobj\u001b[0m\u001b[0;34m,\u001b[0m \u001b[0mkey\u001b[0m\u001b[0;34m,\u001b[0m \u001b[0mdefault\u001b[0m\u001b[0;34m)\u001b[0m\u001b[0;34m:\u001b[0m\u001b[0;34m\u001b[0m\u001b[0;34m\u001b[0m\u001b[0m\n",
      "\u001b[0;31mNoSuchWindowException\u001b[0m: Message: no such window: target window already closed\nfrom unknown error: web view not found\n  (Session info: chrome=83.0.4103.61)\n"
     ]
    }
   ],
   "source": []
  },
  {
   "cell_type": "code",
   "execution_count": null,
   "metadata": {},
   "outputs": [],
   "source": [
    "contador = 0\n",
    "for x in elements:\n",
    "    print(x.text)"
   ]
  },
  {
   "cell_type": "code",
   "execution_count": null,
   "metadata": {},
   "outputs": [],
   "source": [
    "# Vaciado de la variable users\n",
    "users = []"
   ]
  },
  {
   "cell_type": "code",
   "execution_count": null,
   "metadata": {},
   "outputs": [],
   "source": [
    "connexions = []\n",
    "conexion = []\n",
    "contador = []"
   ]
  },
  {
   "cell_type": "code",
   "execution_count": null,
   "metadata": {},
   "outputs": [],
   "source": [
    "for x in elements:\n",
    "    print(x.text)"
   ]
  },
  {
   "cell_type": "code",
   "execution_count": null,
   "metadata": {},
   "outputs": [],
   "source": [
    "# Esta celda es para solo abrir el usuario de chejo\n",
    "\n",
    "browser = webdriver.Chrome()        \n",
    "browser.get(\"https://www.instagram.com/\")\n",
    "action = ActionChains(browser)\n",
    "time.sleep(5)\n",
    "browser.find_element_by_xpath(\"/html/body/div[1]/section/main/article/div[2]/div[2]/div/p/a/span\")\n",
    "time.sleep(5)\n",
    "browser.find_element_by_name(\"username\").send_keys(\"sergiopellecer\")\n",
    "browser.find_element_by_name(\"password\").send_keys(\"Mercedes Benz 280se\")\n",
    "browser.find_element_by_xpath(\"//*[@id=\\\"react-root\\\"]/section/main/article/div[2]/div[1]/div/form/div[4]/button/div\").click()\n",
    "time.sleep(5)\n",
    "for x in users:\n",
    "    browser.get(\"https://www.instagram.com/\" + x + \"/\")\n",
    "    time.sleep(3)"
   ]
  },
  {
   "cell_type": "code",
   "execution_count": null,
   "metadata": {},
   "outputs": [],
   "source": [
    "import pandas as pd"
   ]
  },
  {
   "cell_type": "code",
   "execution_count": null,
   "metadata": {},
   "outputs": [],
   "source": [
    "df = ''\n",
    "df = pd.DataFrame(users, columns = ['Label'])\n",
    "\n",
    "df.to_excel('output2.xlsx','Elements' ,index = False, header=True)\n",
    "print(\"listo\")"
   ]
  },
  {
   "cell_type": "code",
   "execution_count": null,
   "metadata": {},
   "outputs": [],
   "source": [
    "with ExcelWriter('path_to_file.xlsx') as writer:\n",
    "    df.to_excel(writer, sheet_name='Sheet1')"
   ]
  },
  {
   "cell_type": "code",
   "execution_count": null,
   "metadata": {
    "scrolled": true
   },
   "outputs": [],
   "source": [
    "df.to_csv('chejo.csv', index = False)"
   ]
  },
  {
   "cell_type": "code",
   "execution_count": null,
   "metadata": {},
   "outputs": [],
   "source": [
    "writer = pd.ExcelWriter('output.xlsx',engine = 'xlsxwriter')\n",
    "df.to_excel(writer, 'Connections')"
   ]
  },
  {
   "cell_type": "code",
   "execution_count": null,
   "metadata": {},
   "outputs": [],
   "source": [
    "import pandas as pd\n",
    "import numpy as np\n",
    "\n",
    "path = 'output3.xlsx'\n",
    "\n",
    "df1 = pd.DataFrame(users , columns = ['Label'])\n",
    "\n",
    "df2 = pd.DataFrame(connections, columns = ['From','To'])\n",
    "\n",
    "writer = pd.ExcelWriter(path, engine = 'xlsxwriter')\n",
    "df1.to_excel(writer,'Elements', index = False)\n",
    "df2.to_excel(writer, 'Connections', index = False)\n",
    "writer.save()\n",
    "writer.close()\n",
    "print(\"listo\")"
   ]
  },
  {
   "cell_type": "code",
   "execution_count": null,
   "metadata": {},
   "outputs": [],
   "source": []
  },
  {
   "cell_type": "code",
   "execution_count": null,
   "metadata": {},
   "outputs": [],
   "source": []
  },
  {
   "cell_type": "code",
   "execution_count": null,
   "metadata": {},
   "outputs": [],
   "source": []
  },
  {
   "cell_type": "code",
   "execution_count": null,
   "metadata": {},
   "outputs": [],
   "source": []
  },
  {
   "cell_type": "code",
   "execution_count": null,
   "metadata": {},
   "outputs": [],
   "source": []
  },
  {
   "cell_type": "code",
   "execution_count": null,
   "metadata": {},
   "outputs": [],
   "source": []
  }
 ],
 "metadata": {
  "kernelspec": {
   "display_name": "Python 3",
   "language": "python",
   "name": "python3"
  },
  "language_info": {
   "codemirror_mode": {
    "name": "ipython",
    "version": 3
   },
   "file_extension": ".py",
   "mimetype": "text/x-python",
   "name": "python",
   "nbconvert_exporter": "python",
   "pygments_lexer": "ipython3",
   "version": "3.8.2"
  }
 },
 "nbformat": 4,
 "nbformat_minor": 4
}
